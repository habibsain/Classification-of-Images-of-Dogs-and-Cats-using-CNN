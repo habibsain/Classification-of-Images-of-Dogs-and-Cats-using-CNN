{
 "cells": [
  {
   "cell_type": "code",
   "execution_count": 40,
   "metadata": {},
   "outputs": [],
   "source": [
    "#import libraries\n",
    "import tensorflow as tf"
   ]
  },
  {
   "cell_type": "code",
   "execution_count": 41,
   "metadata": {},
   "outputs": [],
   "source": [
    "from keras.preprocessing.image import ImageDataGenerator"
   ]
  },
  {
   "cell_type": "code",
   "execution_count": 42,
   "metadata": {},
   "outputs": [
    {
     "name": "stdout",
     "output_type": "stream",
     "text": [
      "Found 8000 images belonging to 2 classes.\n"
     ]
    }
   ],
   "source": [
    "#data_preprocessing\n",
    "train_datagen = ImageDataGenerator(\n",
    "        rescale=1./255,\n",
    "        shear_range=0.2,\n",
    "        zoom_range=0.2,\n",
    "        horizontal_flip=True)\n",
    "\n",
    "train_generator = train_datagen.flow_from_directory(\n",
    "        'dataset/training_set',\n",
    "        target_size=(64, 64),\n",
    "        batch_size=32,\n",
    "        class_mode='binary')"
   ]
  },
  {
   "cell_type": "code",
   "execution_count": 43,
   "metadata": {},
   "outputs": [
    {
     "name": "stdout",
     "output_type": "stream",
     "text": [
      "Found 2000 images belonging to 2 classes.\n"
     ]
    }
   ],
   "source": [
    "test_datagen = ImageDataGenerator(rescale=1./255)\n",
    "validation_generator = test_datagen.flow_from_directory(\n",
    "        'dataset/test_set',\n",
    "        target_size=(64, 64),\n",
    "        batch_size=32,\n",
    "        class_mode='binary')"
   ]
  },
  {
   "cell_type": "code",
   "execution_count": 44,
   "metadata": {},
   "outputs": [],
   "source": [
    "#Building CNN model\n",
    "#Initializing\n",
    "cnn = tf.keras.models.Sequential()"
   ]
  },
  {
   "cell_type": "code",
   "execution_count": 45,
   "metadata": {},
   "outputs": [],
   "source": [
    "#convolution\n",
    "cnn.add(tf.keras.layers.Conv2D(filters = 32, kernel_size = 3, activation = 'relu', input_shape =[64,64,3]))"
   ]
  },
  {
   "cell_type": "code",
   "execution_count": 46,
   "metadata": {},
   "outputs": [],
   "source": [
    "#pooling\n",
    "cnn.add(tf.keras.layers.MaxPool2D(pool_size = 2, strides = 2))"
   ]
  },
  {
   "cell_type": "code",
   "execution_count": 47,
   "metadata": {},
   "outputs": [],
   "source": [
    "#Add 1 more layer\n",
    "cnn.add(tf.keras.layers.Conv2D(filters = 32, kernel_size = 3, activation = 'relu'))\n",
    "cnn.add(tf.keras.layers.MaxPool2D(pool_size = 2, strides = 2))"
   ]
  },
  {
   "cell_type": "code",
   "execution_count": 48,
   "metadata": {},
   "outputs": [],
   "source": [
    "#flatten\n",
    "cnn.add(tf.keras.layers.Flatten())"
   ]
  },
  {
   "cell_type": "code",
   "execution_count": 49,
   "metadata": {},
   "outputs": [],
   "source": [
    "#full connection\n",
    "cnn.add(tf.keras.layers.Dense(units = 128, activation = 'relu'))"
   ]
  },
  {
   "cell_type": "code",
   "execution_count": 50,
   "metadata": {},
   "outputs": [],
   "source": [
    "#add output layer\n",
    "cnn.add(tf.keras.layers.Dense(units = 1, activation = 'sigmoid'))"
   ]
  },
  {
   "cell_type": "code",
   "execution_count": 53,
   "metadata": {},
   "outputs": [
    {
     "name": "stdout",
     "output_type": "stream",
     "text": [
      "Model: \"sequential_3\"\n",
      "_________________________________________________________________\n",
      " Layer (type)                Output Shape              Param #   \n",
      "=================================================================\n",
      " conv2d_5 (Conv2D)           (None, 62, 62, 32)        896       \n",
      "                                                                 \n",
      " max_pooling2d_4 (MaxPooling  (None, 31, 31, 32)       0         \n",
      " 2D)                                                             \n",
      "                                                                 \n",
      " conv2d_6 (Conv2D)           (None, 29, 29, 32)        9248      \n",
      "                                                                 \n",
      " max_pooling2d_5 (MaxPooling  (None, 14, 14, 32)       0         \n",
      " 2D)                                                             \n",
      "                                                                 \n",
      " flatten_2 (Flatten)         (None, 6272)              0         \n",
      "                                                                 \n",
      " dense_4 (Dense)             (None, 128)               802944    \n",
      "                                                                 \n",
      " dense_5 (Dense)             (None, 1)                 129       \n",
      "                                                                 \n",
      "=================================================================\n",
      "Total params: 813,217\n",
      "Trainable params: 813,217\n",
      "Non-trainable params: 0\n",
      "_________________________________________________________________\n"
     ]
    }
   ],
   "source": [
    "#compile the model\n",
    "cnn.compile(optimizer = 'adam', loss = 'binary_crossentropy', metrics = ['accuracy'])\n",
    "cnn.summary()"
   ]
  },
  {
   "cell_type": "code",
   "execution_count": 71,
   "metadata": {},
   "outputs": [
    {
     "name": "stdout",
     "output_type": "stream",
     "text": [
      "Epoch 1/25\n",
      "250/250 [==============================] - 95s 378ms/step - loss: 0.3872 - accuracy: 0.8235 - val_loss: 0.4540 - val_accuracy: 0.7910\n",
      "Epoch 2/25\n",
      "250/250 [==============================] - 57s 229ms/step - loss: 0.3698 - accuracy: 0.8331 - val_loss: 0.4177 - val_accuracy: 0.8075\n",
      "Epoch 3/25\n",
      "250/250 [==============================] - 56s 225ms/step - loss: 0.3635 - accuracy: 0.8361 - val_loss: 0.4429 - val_accuracy: 0.7940\n",
      "Epoch 4/25\n",
      "250/250 [==============================] - 56s 222ms/step - loss: 0.3521 - accuracy: 0.8414 - val_loss: 0.4395 - val_accuracy: 0.7935\n",
      "Epoch 5/25\n",
      "250/250 [==============================] - 63s 251ms/step - loss: 0.3415 - accuracy: 0.8519 - val_loss: 0.4312 - val_accuracy: 0.8005\n",
      "Epoch 6/25\n",
      "250/250 [==============================] - 64s 256ms/step - loss: 0.3322 - accuracy: 0.8535 - val_loss: 0.4402 - val_accuracy: 0.7995\n",
      "Epoch 7/25\n",
      "250/250 [==============================] - 65s 261ms/step - loss: 0.3083 - accuracy: 0.8676 - val_loss: 0.4271 - val_accuracy: 0.8005\n",
      "Epoch 8/25\n",
      "250/250 [==============================] - 73s 290ms/step - loss: 0.3005 - accuracy: 0.8696 - val_loss: 0.4336 - val_accuracy: 0.8085\n",
      "Epoch 9/25\n",
      "250/250 [==============================] - 71s 283ms/step - loss: 0.2901 - accuracy: 0.8750 - val_loss: 0.4521 - val_accuracy: 0.8055\n",
      "Epoch 10/25\n",
      "250/250 [==============================] - 72s 288ms/step - loss: 0.2750 - accuracy: 0.8811 - val_loss: 0.4336 - val_accuracy: 0.8110\n",
      "Epoch 11/25\n",
      "250/250 [==============================] - 68s 272ms/step - loss: 0.2574 - accuracy: 0.8931 - val_loss: 0.4745 - val_accuracy: 0.8020\n",
      "Epoch 12/25\n",
      "250/250 [==============================] - 54s 217ms/step - loss: 0.2464 - accuracy: 0.8946 - val_loss: 0.4524 - val_accuracy: 0.7980\n",
      "Epoch 13/25\n",
      "250/250 [==============================] - 67s 270ms/step - loss: 0.2370 - accuracy: 0.9041 - val_loss: 0.4561 - val_accuracy: 0.8080\n",
      "Epoch 14/25\n",
      "250/250 [==============================] - 71s 283ms/step - loss: 0.2300 - accuracy: 0.9029 - val_loss: 0.5164 - val_accuracy: 0.7955\n",
      "Epoch 15/25\n",
      "250/250 [==============================] - 71s 284ms/step - loss: 0.2087 - accuracy: 0.9135 - val_loss: 0.5234 - val_accuracy: 0.8175\n",
      "Epoch 16/25\n",
      "250/250 [==============================] - 72s 287ms/step - loss: 0.2056 - accuracy: 0.9187 - val_loss: 0.4748 - val_accuracy: 0.8045\n",
      "Epoch 17/25\n",
      "250/250 [==============================] - 71s 282ms/step - loss: 0.1935 - accuracy: 0.9241 - val_loss: 0.5455 - val_accuracy: 0.8075\n",
      "Epoch 18/25\n",
      "250/250 [==============================] - 72s 287ms/step - loss: 0.1894 - accuracy: 0.9237 - val_loss: 0.5657 - val_accuracy: 0.8025\n",
      "Epoch 19/25\n",
      "250/250 [==============================] - 67s 268ms/step - loss: 0.1656 - accuracy: 0.9348 - val_loss: 0.6071 - val_accuracy: 0.7995\n",
      "Epoch 20/25\n",
      "250/250 [==============================] - 65s 261ms/step - loss: 0.1746 - accuracy: 0.9315 - val_loss: 0.5405 - val_accuracy: 0.8160\n",
      "Epoch 21/25\n",
      "250/250 [==============================] - 72s 288ms/step - loss: 0.1594 - accuracy: 0.9402 - val_loss: 0.6059 - val_accuracy: 0.8030\n",
      "Epoch 22/25\n",
      "250/250 [==============================] - 72s 288ms/step - loss: 0.1422 - accuracy: 0.9421 - val_loss: 0.5646 - val_accuracy: 0.8030\n",
      "Epoch 23/25\n",
      "250/250 [==============================] - 72s 287ms/step - loss: 0.1389 - accuracy: 0.9446 - val_loss: 0.6141 - val_accuracy: 0.8095\n",
      "Epoch 24/25\n",
      "250/250 [==============================] - 72s 287ms/step - loss: 0.1380 - accuracy: 0.9470 - val_loss: 0.5971 - val_accuracy: 0.8050\n",
      "Epoch 25/25\n",
      "250/250 [==============================] - 72s 286ms/step - loss: 0.1305 - accuracy: 0.9486 - val_loss: 0.5905 - val_accuracy: 0.8175\n"
     ]
    }
   ],
   "source": [
    "#Train the model\n",
    "history=cnn.fit(x = train_generator, validation_data = validation_generator, epochs =25)"
   ]
  },
  {
   "cell_type": "code",
   "execution_count": 76,
   "metadata": {},
   "outputs": [],
   "source": [
    "#make single prediction\n",
    "import numpy as np\n",
    "from keras.preprocessing import image\n",
    "test_image = image.load_img(\"dataset/single_prediction/predict2.jpg\", target_size = (64,64))\n",
    "test_image = image.img_to_array(test_image)\n",
    "test_image = np.expand_dims(test_image,axis = 0)\n",
    "result = cnn.predict(test_image)\n",
    "train_generator.class_indices\n",
    "if result[0][0]==1:\n",
    "    prediction = 'dog'\n",
    "else:\n",
    "    prediction = 'cat'"
   ]
  },
  {
   "cell_type": "code",
   "execution_count": 77,
   "metadata": {},
   "outputs": [
    {
     "data": {
      "text/plain": [
       "'dog'"
      ]
     },
     "execution_count": 77,
     "metadata": {},
     "output_type": "execute_result"
    }
   ],
   "source": [
    "prediction"
   ]
  },
  {
   "cell_type": "code",
   "execution_count": 78,
   "metadata": {},
   "outputs": [],
   "source": [
    "import matplotlib.pyplot as plt"
   ]
  },
  {
   "cell_type": "code",
   "execution_count": 79,
   "metadata": {},
   "outputs": [
    {
     "name": "stdout",
     "output_type": "stream",
     "text": [
      "dict_keys(['loss', 'accuracy', 'val_loss', 'val_accuracy'])\n"
     ]
    }
   ],
   "source": [
    "print(history.history.keys())"
   ]
  },
  {
   "cell_type": "code",
   "execution_count": 88,
   "metadata": {},
   "outputs": [
    {
     "data": {
      "text/plain": [
       "<matplotlib.legend.Legend at 0x7f34aecfedd0>"
      ]
     },
     "execution_count": 88,
     "metadata": {},
     "output_type": "execute_result"
    },
    {
     "data": {
      "image/png": "[encoded data removed]",
      "text/plain": [
       "<Figure size 432x288 with 1 Axes>"
      ]
     },
     "metadata": {
      "needs_background": "light"
     },
     "output_type": "display_data"
    }
   ],
   "source": [
    "plt.plot(history.history['accuracy'], label='accuracy')\n",
    "plt.plot(history.history['val_loss'], label='val_loss')\n",
    "plt.plot(history.history['val_accuracy'], label='val_accuracy')\n",
    "plt.legend()"
   ]
  }
 ],
 "metadata": {
  "kernelspec": {
   "display_name": "Python 3",
   "language": "python",
   "name": "python3"
  },
  "language_info": {
   "codemirror_mode": {
    "name": "ipython",
    "version": 3
   },
   "file_extension": ".py",
   "mimetype": "text/x-python",
   "name": "python",
   "nbconvert_exporter": "python",
   "pygments_lexer": "ipython3",
   "version": "3.7.8"
  }
 },
 "nbformat": 4,
 "nbformat_minor": 4
}
