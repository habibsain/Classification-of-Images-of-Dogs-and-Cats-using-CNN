{
 "cells": [
  {
   "cell_type": "code",
   "execution_count": 38,
   "metadata": {},
   "outputs": [],
   "source": [
    "from PIL import Image"
   ]
  },
  {
   "cell_type": "code",
   "execution_count": 39,
   "metadata": {},
   "outputs": [],
   "source": [
    "\n",
    "try:\n",
    "    Image.open('training_set/Cat/0.jpg')\n",
    "except:\n",
    "    print('Error occur on' + 'training_set/Cat/0.jpg')\n",
    "    "
   ]
  },
  {
   "cell_type": "code",
   "execution_count": 40,
   "metadata": {},
   "outputs": [],
   "source": [
    "#help(range)"
   ]
  },
  {
   "cell_type": "code",
   "execution_count": 41,
   "metadata": {},
   "outputs": [],
   "source": [
    "for i in range(4000):\n",
    "    try:\n",
    "        Image.open('training_set/Cat/'+ str(i) +'.jpg')\n",
    "    except:\n",
    "        print('Error occur on' + ' training_set/Cat/'+ str(i) +'.jpg')\n"
   ]
  },
  {
   "cell_type": "code",
   "execution_count": 42,
   "metadata": {},
   "outputs": [],
   "source": [
    "for i in range(4000):\n",
    "    try:\n",
    "        Image.open('training_set/Dog/'+ str(i) +'.jpg')\n",
    "    except:\n",
    "        print('Error occur on' + ' training_set/Dog/'+ str(i) +'.jpg')\n"
   ]
  },
  {
   "cell_type": "code",
   "execution_count": 49,
   "metadata": {},
   "outputs": [],
   "source": [
    "for i in range(11000,12000):\n",
    "    try:\n",
    "        Image.open('test_set/Cat/'+ str(i) +'.jpg')\n",
    "    except:\n",
    "        print('Error occur on' + ' test_set/Cat/'+ str(i) +'.jpg')\n"
   ]
  },
  {
   "cell_type": "code",
   "execution_count": 50,
   "metadata": {},
   "outputs": [],
   "source": [
    "for i in range(11000,12000):\n",
    "    try:\n",
    "        Image.open('test_set/Dog/'+ str(i) +'.jpg')\n",
    "    except:\n",
    "        print('Error occur on' + ' test_set/Dog/'+ str(i) +'.jpg')\n"
   ]
  },
  {
   "cell_type": "code",
   "execution_count": null,
   "metadata": {},
   "outputs": [],
   "source": []
  },
  {
   "cell_type": "code",
   "execution_count": null,
   "metadata": {},
   "outputs": [],
   "source": []
  }
 ],
 "metadata": {
  "kernelspec": {
   "display_name": "Python 3",
   "language": "python",
   "name": "python3"
  },
  "language_info": {
   "codemirror_mode": {
    "name": "ipython",
    "version": 3
   },
   "file_extension": ".py",
   "mimetype": "text/x-python",
   "name": "python",
   "nbconvert_exporter": "python",
   "pygments_lexer": "ipython3",
   "version": "3.7.8"
  }
 },
 "nbformat": 4,
 "nbformat_minor": 4
}
